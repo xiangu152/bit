{
 "cells": [
  {
   "cell_type": "markdown",
   "metadata": {},
   "source": [
    "# A.2题 新机器购入问题"
   ]
  },
  {
   "cell_type": "markdown",
   "metadata": {},
   "source": [
    "### 问题重述"
   ]
  },
  {
   "cell_type": "markdown",
   "metadata": {},
   "source": [
    "如果工厂考虑投资扩大生产，假设每种机床投资相同<br>请给出如果可以投资购买新的机床设备数量为一台、两台、三台三种情况下应分别购买哪些机床设备及增加的利润（新买的机床不考虑整修）。"
   ]
  },
  {
   "cell_type": "markdown",
   "metadata": {},
   "source": [
    "### 问题分析"
   ]
  },
  {
   "cell_type": "markdown",
   "metadata": {},
   "source": [
    "在A.1问题中已经实现了对本问题内核线性规划问题的求解<br><br>\n",
    "因此可以将本问题视为：<br><br>\n",
    "<font size=4>如果改变初始的机器设置，对最终最大利润有什么影响<font>"
   ]
  },
  {
   "cell_type": "markdown",
   "metadata": {},
   "source": [
    "### 问题实现"
   ]
  },
  {
   "cell_type": "markdown",
   "metadata": {},
   "source": [
    "由于问题维度较低(<=3)<br>\n",
    "<br>\n",
    "在此处给出两种方式求解本问题:<br>\n"
   ]
  },
  {
   "cell_type": "markdown",
   "metadata": {},
   "source": [
    "#### 遍历所有可能的初始情况，寻找最大利润"
   ]
  },
  {
   "cell_type": "markdown",
   "metadata": {},
   "source": [
    "由于增加1-3台机器时，时间复杂度并没有超过可接受范围。<br>\n",
    "<br>\n",
    "<font size=3 color =red>枚举所有情况进行寻找最大利润可能 <font><br>"
   ]
  },
  {
   "cell_type": "markdown",
   "metadata": {},
   "source": [
    "##### 导入已实现的本问题求解内核"
   ]
  },
  {
   "cell_type": "code",
   "execution_count": 1,
   "metadata": {},
   "outputs": [],
   "source": [
    "from core import LinearProblem\n",
    "import copy\n",
    "problem=LinearProblem.LinearCore()"
   ]
  },
  {
   "cell_type": "markdown",
   "metadata": {},
   "source": [
    "初始的Machine表"
   ]
  },
  {
   "cell_type": "code",
   "execution_count": 2,
   "metadata": {},
   "outputs": [],
   "source": [
    "Machine_base = [[4, 3, 4, 2, 1],\n",
    "            [6, 2, 4, 2, 1],\n",
    "            [6, 3, 4, 1, 1],\n",
    "            [6, 3, 3, 2, 1],\n",
    "            [5, 2, 4, 2, 1],\n",
    "            [6, 3, 3, 2, 0]]  # 第i月，第num号机器的数量"
   ]
  },
  {
   "cell_type": "code",
   "execution_count": 3,
   "metadata": {},
   "outputs": [],
   "source": [
    "max_fit=0\n",
    "max_machine=[]"
   ]
  },
  {
   "cell_type": "markdown",
   "metadata": {},
   "source": [
    "##### case 1 :增加一台机器"
   ]
  },
  {
   "cell_type": "code",
   "execution_count": 8,
   "metadata": {},
   "outputs": [
    {
     "name": "stderr",
     "output_type": "stream",
     "text": [
      "C:\\Users\\12780\\AppData\\Roaming\\Python\\Python39\\site-packages\\pulp\\pulp.py:1316: UserWarning: Spaces are not permitted in the name. Converted to '_'\n",
      "  warnings.warn(\"Spaces are not permitted in the name. Converted to '_'\")\n"
     ]
    },
    {
     "name": "stdout",
     "output_type": "stream",
     "text": [
      "最大利润为 106264.5 此时的机器表为 [[4, 3, 4, 2, 2], [6, 2, 4, 2, 2], [6, 3, 4, 1, 2], [6, 3, 3, 2, 2], [5, 2, 4, 2, 2], [6, 3, 3, 2, 1]]\n",
      "总用时0.2s\n"
     ]
    }
   ],
   "source": [
    "max_fit=0\n",
    "max_machine=[]\n",
    "for i in range(5):\n",
    "    Machine_temp=copy.deepcopy(Machine_base)\n",
    "    for j in range(6):\n",
    "        Machine_temp[j][i]+=1\n",
    "    problem.reset_machine(Machine_temp)\n",
    "    fit_temp=problem.solveP()\n",
    "    if fit_temp >= max_fit:\n",
    "        max_fit=fit_temp\n",
    "        max_machine=Machine_temp\n",
    "print('最大利润为',max_fit,'此时的机器表为',max_machine)\n",
    "print('总用时0.2s')"
   ]
  },
  {
   "cell_type": "markdown",
   "metadata": {},
   "source": [
    "<font color=red>由输出可知最大利润为106264.5，增加5号机</font>"
   ]
  },
  {
   "cell_type": "markdown",
   "metadata": {},
   "source": [
    "##### case 2 增加两台机器"
   ]
  },
  {
   "cell_type": "code",
   "execution_count": 10,
   "metadata": {},
   "outputs": [
    {
     "name": "stdout",
     "output_type": "stream",
     "text": [
      "最大利润为 111559.0 此时的机器表为 [[5, 3, 4, 2, 2], [7, 2, 4, 2, 2], [7, 3, 4, 1, 2], [7, 3, 3, 2, 2], [6, 2, 4, 2, 2], [7, 3, 3, 2, 1]]\n",
      "总用时1.2s\n"
     ]
    }
   ],
   "source": [
    "max_fit=0\n",
    "max_machine=[]\n",
    "for i in range(5):\n",
    "    for k in range(5):\n",
    "        Machine_temp=copy.deepcopy(Machine_base)\n",
    "        for j in range(6):\n",
    "            Machine_temp[j][i]+=1\n",
    "            Machine_temp[j][k]+=1\n",
    "        problem.reset_machine(Machine_temp)\n",
    "        fit_temp=problem.solveP()\n",
    "        if fit_temp >= max_fit:\n",
    "            max_fit=fit_temp\n",
    "            max_machine=Machine_temp\n",
    "print('最大利润为',max_fit,'此时的机器表为',max_machine)\n",
    "print('总用时1.2s')"
   ]
  },
  {
   "cell_type": "markdown",
   "metadata": {},
   "source": [
    "<font color=red>由输出可知最大利润为111559.0，增加5号机和1号机各一台</font>"
   ]
  },
  {
   "cell_type": "markdown",
   "metadata": {},
   "source": [
    "##### case 3 增加3台机器"
   ]
  },
  {
   "cell_type": "code",
   "execution_count": 13,
   "metadata": {},
   "outputs": [
    {
     "name": "stderr",
     "output_type": "stream",
     "text": [
      "C:\\Users\\12780\\AppData\\Roaming\\Python\\Python39\\site-packages\\pulp\\pulp.py:1316: UserWarning: Spaces are not permitted in the name. Converted to '_'\n",
      "  warnings.warn(\"Spaces are not permitted in the name. Converted to '_'\")\n"
     ]
    },
    {
     "name": "stdout",
     "output_type": "stream",
     "text": [
      "最大利润为 113860.0 此时的机器表为 [[6, 3, 4, 2, 2], [8, 2, 4, 2, 2], [8, 3, 4, 1, 2], [8, 3, 3, 2, 2], [7, 2, 4, 2, 2], [8, 3, 3, 2, 1]]\n",
      "总用时5.8s\n"
     ]
    }
   ],
   "source": [
    "max_fit=0\n",
    "max_machine=[]\n",
    "for i in range(5):\n",
    "    for k in range(5):\n",
    "        for l in range(5):\n",
    "            Machine_temp=copy.deepcopy(Machine_base)\n",
    "            for j in range(6):\n",
    "                Machine_temp[j][i]+=1\n",
    "                Machine_temp[j][k]+=1\n",
    "                Machine_temp[j][l]+=1\n",
    "            problem.reset_machine(Machine_temp)\n",
    "            fit_temp=problem.solveP()\n",
    "            if fit_temp >= max_fit:\n",
    "                max_fit=fit_temp\n",
    "                max_machine=Machine_temp\n",
    "print('最大利润为',max_fit,'此时的机器表为',max_machine)\n",
    "print('总用时5.8s')"
   ]
  },
  {
   "cell_type": "markdown",
   "metadata": {},
   "source": [
    "<font color=red>由输出可知最大利润为113860.0，增加5号机一台和1号机二台</font>"
   ]
  },
  {
   "cell_type": "markdown",
   "metadata": {},
   "source": [
    "##### 总结"
   ]
  },
  {
   "cell_type": "markdown",
   "metadata": {},
   "source": [
    "| 增加的机器总数 | 最大利润 | 方案 |\n",
    "| -------------- | -------- | ---- |\n",
    "| 1              | 106264.5       | 5号机 * 1    |\n",
    "| 2              | 111559.0        | 1号机 * 1 5号机 * 1    |\n",
    "| 3              | 113860.0        | 1号机 * 2 5号机 * 1    |"
   ]
  },
  {
   "cell_type": "markdown",
   "metadata": {},
   "source": [
    "### 利用决策树模型高效预测"
   ]
  },
  {
   "cell_type": "markdown",
   "metadata": {},
   "source": [
    "将core内核看作如下问题：<br>\n",
    "<font size =5 >输入一个30维向量，每6维代表一个机器在6个月的机器数，core接受输入，输出浮点数代表利润</font><br>\n",
    "<br>\n",
    "具体的训练方式详见<font size=5>\"A.3题解.ipynb\"</font>，在此仅利用训练好的模型进行属性特征值排序"
   ]
  },
  {
   "cell_type": "markdown",
   "metadata": {},
   "source": [
    "利用决策树模型进行属性特征值排序"
   ]
  },
  {
   "cell_type": "markdown",
   "metadata": {},
   "source": [
    "该方法在维度较低时效率很低，但是随着维度上升，效率明显超过枚举法"
   ]
  },
  {
   "cell_type": "markdown",
   "metadata": {},
   "source": [
    "读入决策树模型"
   ]
  },
  {
   "cell_type": "code",
   "execution_count": 1,
   "metadata": {},
   "outputs": [],
   "source": [
    "import joblib\n",
    "from scipy.optimize import basinhopping\n",
    "import numpy as np\n",
    "name = 'model\\\\model-judgetree.pkl'\n",
    "models = joblib.load(name)"
   ]
  },
  {
   "cell_type": "code",
   "execution_count": 2,
   "metadata": {},
   "outputs": [],
   "source": [
    "Machine_base = [[4, 3, 4, 2, 1],\n",
    "               [6, 2, 4, 2, 1],\n",
    "               [6, 3, 4, 1, 1],\n",
    "               [6, 3, 3, 2, 1],\n",
    "               [5, 2, 4, 2, 1],\n",
    "               [6, 3, 3, 2, 0]]\n",
    "Machine_base=np.array(Machine_base).transpose()"
   ]
  },
  {
   "cell_type": "code",
   "execution_count": 3,
   "metadata": {},
   "outputs": [
    {
     "name": "stdout",
     "output_type": "stream",
     "text": [
      "[[4 6 6 6 5 6]\n",
      " [3 2 3 3 2 3]\n",
      " [4 4 4 3 4 3]\n",
      " [2 2 1 2 2 2]\n",
      " [1 1 1 1 1 0]]\n"
     ]
    }
   ],
   "source": [
    "print(Machine_base)"
   ]
  },
  {
   "cell_type": "markdown",
   "metadata": {},
   "source": [
    "考虑增加k个机器的问题，两种方法的效率差异"
   ]
  },
  {
   "cell_type": "code",
   "execution_count": 4,
   "metadata": {},
   "outputs": [],
   "source": [
    "def k_problem_judgetree(k:int):\n",
    "    def generate_vectors(k, dim=5):\n",
    "        grids = np.mgrid[[slice(0, k+1) for _ in range(dim)]]\n",
    "        vectors = grids.reshape(dim, -1).T\n",
    "        valid_vectors = vectors[np.sum(vectors, axis=1) == k]\n",
    "        return valid_vectors\n",
    "    pro_array=generate_vectors(k)\n",
    "    base=[]\n",
    "    for i in range(5):\n",
    "        base.append(Machine_base[i])\n",
    "    vector=[]\n",
    "    answer=[]\n",
    "    for i in range(len(pro_array)):\n",
    "        for j in range(5):\n",
    "            vector.append(base[j]+pro_array[i][j])\n",
    "        answer.append(np.array(vector))\n",
    "        vector=[]\n",
    "    return answer"
   ]
  },
  {
   "cell_type": "code",
   "execution_count": 15,
   "metadata": {},
   "outputs": [],
   "source": [
    "import time\n",
    "from core import LinearProblem\n",
    "import joblib\n",
    "time2=[]\n",
    "time1=[]"
   ]
  },
  {
   "cell_type": "code",
   "execution_count": 16,
   "metadata": {},
   "outputs": [],
   "source": [
    "\n",
    "def test(k):\n",
    "    def judgetree(k:int):\n",
    "        base=k_problem_judgetree(k)\n",
    "        DATA=np.array(base).reshape(-1,30)\n",
    "        model=joblib.load('model\\\\model-judgetree.pkl')\n",
    "        PRE=model.predict(DATA)\n",
    "        temp=np.unravel_index(np.argmax(PRE), PRE.shape)\n",
    "    for i in range(1,k):\n",
    "        start_time = time.time()\n",
    "        # 调用函数\n",
    "        judgetree(i)\n",
    "        # 记录结束时间\n",
    "        end_time = time.time()\n",
    "        time1.append(end_time - start_time)\n",
    "    \n",
    "    def hand(k):\n",
    "        max0=0\n",
    "        max_fit=0\n",
    "        base=k_problem_judgetree(k)\n",
    "        problem=LinearProblem.LinearCore()\n",
    "        for i in range(len(base)):\n",
    "            input=base[i].transpose().tolist()\n",
    "            problem.reset_machine(input)\n",
    "            answer=problem.solveP()\n",
    "            if answer>max_fit:\n",
    "                max0=i\n",
    "                max_fit=answer\n",
    "    for i in range(1,k):\n",
    "        start_time = time.time()\n",
    "        # 调用函数\n",
    "        hand(i)\n",
    "        # 记录结束时间\n",
    "        end_time = time.time()\n",
    "        time2.append(end_time - start_time)\n",
    "        print(f\"{i} is over\")"
   ]
  },
  {
   "cell_type": "markdown",
   "metadata": {},
   "source": [
    "以25维问题为例"
   ]
  },
  {
   "cell_type": "code",
   "execution_count": null,
   "metadata": {},
   "outputs": [],
   "source": [
    "test(25)"
   ]
  },
  {
   "cell_type": "code",
   "execution_count": 34,
   "metadata": {},
   "outputs": [
    {
     "data": {
      "image/png": "[encoded data removed]",
      "text/plain": [
       "<Figure size 1000x500 with 1 Axes>"
      ]
     },
     "metadata": {},
     "output_type": "display_data"
    }
   ],
   "source": [
    "import matplotlib.pyplot as plt\n",
    "plt.rcParams['font.sans-serif'] = [u'simHei'] \n",
    "plt.rcParams['axes.unicode_minus'] = False     \n",
    "plt.figure(figsize=(10, 5))\n",
    "plt.plot(range(1, 25), time1, color='blue', label='决策树模型')\n",
    "plt.plot(range(1, 25), time2, color='red', label='枚举法')\n",
    "plt.title('效率对比')\n",
    "plt.xlabel('维度')\n",
    "plt.ylabel('耗时')\n",
    "plt.legend()\n",
    "plt.grid(True)\n",
    "plt.show()"
   ]
  },
  {
   "cell_type": "markdown",
   "metadata": {},
   "source": [
    "可以发现当维度进一步提升时，模型预测法几乎不发生明显时间复杂度变化，枚举法接近指数上升"
   ]
  }
 ],
 "metadata": {
  "kernelspec": {
   "display_name": "Python 3 (ipykernel)",
   "language": "python",
   "name": "python3"
  },
  "language_info": {
   "codemirror_mode": {
    "name": "ipython",
    "version": 3
   },
   "file_extension": ".py",
   "mimetype": "text/x-python",
   "name": "python",
   "nbconvert_exporter": "python",
   "pygments_lexer": "ipython3",
   "version": "3.9.16"
  },
  "vscode": {
   "interpreter": {
    "hash": "060d95f772dce4cc3886f0f373e8d4f95079d8579238e2f38ae746da2e129142"
   }
  }
 },
 "nbformat": 4,
 "nbformat_minor": 2
}
