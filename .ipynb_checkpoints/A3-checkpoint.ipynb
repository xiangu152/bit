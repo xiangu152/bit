{
 "cells": [
  {
   "cell_type": "code",
   "execution_count": 1,
   "metadata": {},
   "outputs": [],
   "source": [
    "import pulp\n",
    "import copy\n",
    "# 常量定义\n",
    "hours = 8  # 每天可工作时长为8h\n",
    "days = 22  # 每月工作22天\n",
    "fine = 0.5  # 每月库存费\n",
    "price = [10, 9, 3, 5, 11, 9, 8]  # 第i件商品可获得的利润\n",
    "F = [[600, 800, 200, 0, 700, 300, 200],\n",
    "     [500, 600, 300, 300, 500, 200, 250],\n",
    "     [200, 500, 400, 200, 500, 0, 300],\n",
    "     [300, 400, 0, 400, 300, 500, 100],\n",
    "     [0, 200, 300, 200, 900, 200, 0],\n",
    "     [400, 300, 100, 300, 800, 400, 100]]  # 第i月，第j个商品的销售限额\n",
    "Time = [[0.6, 0.7, 0, 0.3, 0.6, 0, 0.5],\n",
    "         [0.1, 0.1, 0, 0.3, 0, 0.6, 0],\n",
    "         [0.2, 0, 0.4, 0, 0.2, 0, 0.6],\n",
    "         [0.05, 0.08, 0, 0.06, 0.1, 0, 0.08],\n",
    "         [0, 0, 0.01, 0, 0.05, 0.08, 0.05]] # 第j个商品在第num号机器上所需的加工时间\n",
    "Machine = [[4, 3, 4, 2, 1],\n",
    "            [6, 2, 4, 2, 1],\n",
    "            [6, 3, 4, 1, 1],\n",
    "            [6, 3, 3, 2, 1],\n",
    "            [5, 2, 4, 2, 1],\n",
    "            [6, 3, 3, 2, 0]]  # 第i月，第num号机器的数量\n",
    "def solveP(F,Time,Machine):\n",
    "    # 变量定义\n",
    "    K=[pulp.LpVariable(f'k_{i}', lowBound=0) for i in range(6)]\n",
    "    N=[[pulp.LpVariable(f'N_{j}_{i}', lowBound=0, cat='Integer') for j in range(7)] for i in range(6)]\n",
    "    M=[[pulp.LpVariable(f'M_{j}_{i}', lowBound=0, cat='Integer') for j in range(7)] for i in range(6)]\n",
    "    X=[[pulp.LpVariable(f'X_{j}_{i}', lowBound=0, cat='Integer') for j in range(7)] for i in range(6)]\n",
    "    # 创建线性规划问题\n",
    "    prob = pulp.LpProblem(\"Maximize Profit\", pulp.LpMaximize)\n",
    "    # 目标函数\n",
    "    prob += K[5] + sum(N[5][j] * price[j] for j in range(7)) - fine * sum(X[5][j] for j in range(7))\n",
    "    for j in range(7):\n",
    "        prob += X[5][j] + M[5][j] - N[5][j] == 60\n",
    "    for j in range(7):\n",
    "        prob += X[0][j] == 0\n",
    "    prob += K[0]==0\n",
    "    for i in range(6):\n",
    "        for j in range(7):\n",
    "            prob += X[i][j]<=100\n",
    "            prob += X[i][j]>=0\n",
    "            prob += M[i][j]>=0\n",
    "            prob += N[i][j]>=0\n",
    "    for i in range(5):\n",
    "        for j in range(7):\n",
    "            prob += X[i+1][j]==X[i][j]+M[i][j]-N[i][j]\n",
    "    for i in range(5):\n",
    "        prob += K[i+1]==K[i]+sum(N[i][j]*price[j] for j in range(7))-sum(X[i][j]*fine for j in range(7))\n",
    "    for i in range(6):\n",
    "        for j in range(7):\n",
    "            prob += N[i][j]<=F[i][j]\n",
    "            prob += N[i][j]<=X[i][j]+M[i][j]\n",
    "    for i in range(6):\n",
    "        for num in range(5):\n",
    "            prob += sum(Time[num][j]*M[i][j] for j in range(7)) <= hours*days*Machine[i][num]\n",
    "    for j in range(7):\n",
    "        prob += X[5][j]+M[5][j]-N[5][j]==60\n",
    "    prob.solve()\n",
    "    return pulp.value(prob.objective)"
   ]
  },
  {
   "cell_type": "code",
   "execution_count": 2,
   "metadata": {},
   "outputs": [],
   "source": [
    "Machine=[[6,4,3,2,1] for _ in range(6)]\n",
    "FIX=[3,2,2,1,1]"
   ]
  },
  {
   "cell_type": "code",
   "execution_count": 3,
   "metadata": {},
   "outputs": [],
   "source": [
    "\n",
    "def genter(target: int, temp: list[int],answer):\n",
    "    if sum(temp) == target:\n",
    "        answer.append(temp.copy())  # 添加一个副本到答案列表中，避免修改已存在的列表\n",
    "    else:\n",
    "            for i in range(len(temp)):\n",
    "                new_temp = temp.copy()  # 创建一个新的列表，避免修改原始列表\n",
    "                new_temp[i] += 1\n",
    "                genter(target, new_temp,answer)"
   ]
  },
  {
   "cell_type": "code",
   "execution_count": 4,
   "metadata": {},
   "outputs": [],
   "source": [
    "def List_Maker(n:int):\n",
    "    answer1=[]\n",
    "    genter(n,[0,0,0,0,0,0],answer1)\n",
    "    return answer1"
   ]
  },
  {
   "cell_type": "code",
   "execution_count": 5,
   "metadata": {},
   "outputs": [],
   "source": [
    "FIX_PROB=[]\n",
    "for i in FIX:\n",
    "    FIX_PROB.append(List_Maker(i))"
   ]
  },
  {
   "cell_type": "code",
   "execution_count": 6,
   "metadata": {},
   "outputs": [],
   "source": [
    "def transpose_list(matrix):\n",
    "    if not matrix:\n",
    "        return []\n",
    "    \n",
    "    rows = len(matrix)\n",
    "    cols = len(matrix[0])\n",
    "    \n",
    "    transposed_matrix = []\n",
    "    for j in range(cols):\n",
    "        transposed_row = []\n",
    "        for i in range(rows):\n",
    "            transposed_row.append(matrix[i][j])\n",
    "        transposed_matrix.append(transposed_row)\n",
    "    \n",
    "    return transposed_matrix"
   ]
  },
  {
   "cell_type": "code",
   "execution_count": 7,
   "metadata": {},
   "outputs": [],
   "source": [
    "def matrix_subtraction(matrix1, matrix2):\n",
    "    \"\"\"\n",
    "    对两个同形状的矩阵进行对应元素相减\n",
    "    Args:\n",
    "        matrix1: 第一个矩阵，二维列表\n",
    "        matrix2: 第二个矩阵，二维列表，与matrix1形状相同\n",
    "\n",
    "    Returns:\n",
    "        result: 相减结果矩阵，二维列表\n",
    "    \"\"\"\n",
    "    rows = len(matrix1)\n",
    "    cols = len(matrix1[0])\n",
    "    \n",
    "    result = []\n",
    "    for i in range(rows):\n",
    "        row = []\n",
    "        for j in range(cols):\n",
    "            row.append(matrix1[i][j] - matrix2[i][j])\n",
    "        result.append(row)\n",
    "    \n",
    "    return result\n"
   ]
  },
  {
   "cell_type": "code",
   "execution_count": null,
   "metadata": {},
   "outputs": [],
   "source": [
    "FIX_ALL_ANSWER=[]\n",
    "for i in FIX_PROB[0]:\n",
    "    for j in FIX_PROB[1]:\n",
    "        for k in FIX_PROB[2]:\n",
    "            for l in FIX_PROB[3]:\n",
    "                for m in FIX_PROB[4]:\n",
    "                    TEMP=copy.deepcopy([])\n",
    "                    TEMP.append(i)\n",
    "                    TEMP.append(j)\n",
    "                    TEMP.append(k)\n",
    "                    TEMP.append(l)\n",
    "                    TEMP.append(m)\n",
    "                    temp1=matrix_subtraction(Machine,transpose_list(TEMP))\n",
    "                    FIX_ALL_ANSWER.append(temp1)"
   ]
  },
  {
   "cell_type": "code",
   "execution_count": 26,
   "metadata": {},
   "outputs": [
    {
     "name": "stdout",
     "output_type": "stream",
     "text": [
      "10077696\n"
     ]
    }
   ],
   "source": [
    "print(len(FIX_ALL_ANSWER))"
   ]
  },
  {
   "cell_type": "code",
   "execution_count": 20,
   "metadata": {},
   "outputs": [
    {
     "name": "stdout",
     "output_type": "stream",
     "text": [
      "[[3, 2, 1, 1, 0], [6, 4, 3, 2, 1], [6, 4, 3, 2, 1], [6, 4, 3, 2, 1], [6, 4, 3, 2, 1], [6, 4, 3, 2, 1]]\n"
     ]
    }
   ],
   "source": [
    "print(FIX_ALL_ANSWER[0])"
   ]
  },
  {
   "cell_type": "code",
   "execution_count": 7,
   "metadata": {},
   "outputs": [],
   "source": [
    "def deduplicate_lists(input_list):\n",
    "    # 用于存储已经出现过的子列表\n",
    "    seen = []\n",
    "    \n",
    "    # 用于存储去重后的结果\n",
    "    deduplicated_list = []\n",
    "    \n",
    "    for sublist in input_list:\n",
    "        # 如果子列表不在已经出现过的列表中，则添加到结果列表中\n",
    "        if sublist not in seen:\n",
    "            deduplicated_list.append(sublist)\n",
    "            seen.append(sublist)\n",
    "    \n",
    "    return deduplicated_list\n"
   ]
  },
  {
   "cell_type": "code",
   "execution_count": 8,
   "metadata": {},
   "outputs": [],
   "source": [
    "import os\n",
    "import pickle\n",
    "\n",
    "def chunk_list(lst, num_chunks):\n",
    "    \"\"\"将列表切分为指定数量的块\"\"\"\n",
    "    avg_chunk_size = len(lst) // num_chunks\n",
    "    remainder = len(lst) % num_chunks\n",
    "    chunks = []\n",
    "    index = 0\n",
    "    for i in range(num_chunks):\n",
    "        chunk_size = avg_chunk_size + 1 if i < remainder else avg_chunk_size\n",
    "        chunks.append(lst[index:index + chunk_size])\n",
    "        index += chunk_size\n",
    "    return chunks\n",
    "\n",
    "def save_chunks(chunks, output_dir):\n",
    "    \"\"\"将块保存到本地\"\"\"\n",
    "    if not os.path.exists(output_dir):\n",
    "        os.makedirs(output_dir)\n",
    "    for i, chunk in enumerate(chunks):\n",
    "        filename = os.path.join(output_dir, f\"chunk_{i}.pkl\")\n",
    "        with open(filename, 'wb') as f:\n",
    "            pickle.dump(chunk, f)"
   ]
  },
  {
   "cell_type": "code",
   "execution_count": 10,
   "metadata": {},
   "outputs": [
    {
     "name": "stdout",
     "output_type": "stream",
     "text": [
      "[[[1, 2], [3, 4]], [[5, 6], [7, 8]]]\n"
     ]
    }
   ],
   "source": []
  },
  {
   "cell_type": "code",
   "execution_count": 28,
   "metadata": {},
   "outputs": [],
   "source": [
    "chunks = chunk_list(FIX_ALL_ANSWER, 1000)"
   ]
  },
  {
   "cell_type": "code",
   "execution_count": 7,
   "metadata": {},
   "outputs": [
    {
     "ename": "NameError",
     "evalue": "name 'save_chunks' is not defined",
     "output_type": "error",
     "traceback": [
      "\u001b[1;31m---------------------------------------------------------------------------\u001b[0m",
      "\u001b[1;31mNameError\u001b[0m                                 Traceback (most recent call last)",
      "Cell \u001b[1;32mIn[7], line 2\u001b[0m\n\u001b[0;32m      1\u001b[0m output_directory \u001b[38;5;241m=\u001b[39m \u001b[38;5;124m\"\u001b[39m\u001b[38;5;124mdistributed_storage\u001b[39m\u001b[38;5;124m\"\u001b[39m\n\u001b[1;32m----> 2\u001b[0m \u001b[43msave_chunks\u001b[49m(chunks, output_directory)\n",
      "\u001b[1;31mNameError\u001b[0m: name 'save_chunks' is not defined"
     ]
    }
   ],
   "source": [
    "output_directory = \"distributed_storage\"\n",
    "save_chunks(chunks, output_directory)"
   ]
  },
  {
   "cell_type": "code",
   "execution_count": 10,
   "metadata": {},
   "outputs": [],
   "source": [
    "import os\n",
    "import pickle\n",
    "import numpy as np\n",
    "def load_chunk(input_dir, chunk_index):\n",
    "    \"\"\"加载指定索引的块文件\"\"\"\n",
    "    filename = os.path.join(input_dir, f\"chunk_{chunk_index}.pkl\")\n",
    "    with open(filename, 'rb') as f:\n",
    "        chunk = pickle.load(f)\n",
    "    return np.array(chunk)\n",
    "\n",
    "# 加载指定索引的块文件\n",
    "input_directory = \"distributed_storage\"\n",
    "chunk_index = 0  # 例如加载第一个块\n",
    "loaded_chunk = load_chunk(input_directory, chunk_index)\n"
   ]
  },
  {
   "cell_type": "code",
   "execution_count": null,
   "metadata": {},
   "outputs": [],
   "source": []
  },
  {
   "cell_type": "code",
   "execution_count": 31,
   "metadata": {},
   "outputs": [
    {
     "name": "stderr",
     "output_type": "stream",
     "text": [
      "C:\\Users\\12780\\AppData\\Roaming\\Python\\Python39\\site-packages\\pulp\\pulp.py:1316: UserWarning: Spaces are not permitted in the name. Converted to '_'\n",
      "  warnings.warn(\"Spaces are not permitted in the name. Converted to '_'\")\n"
     ]
    }
   ],
   "source": [
    "import os\n",
    "\n",
    "max_fit = 0\n",
    "max_machine = []\n",
    "middle_writer = []\n",
    "input_dir = f\"process/process0\"\n",
    "\n",
    "for i in range(100000):\n",
    "    loaded_chunk = load_chunk(input_directory, i)\n",
    "    for j in range(len(loaded_chunk)):\n",
    "        temp_fit = solveP(F, Time, loaded_chunk[j])\n",
    "        if temp_fit > max_fit:\n",
    "            max_fit = temp_fit\n",
    "            max_machine = copy.deepcopy(loaded_chunk[j])\n",
    "        process_info = f\"第{i}块第{j}个矩阵\\n\"\n",
    "        process_info += f\"目前temp_fit={temp_fit}\\n\"\n",
    "        process_info += f\"目前temp_machine={loaded_chunk[j]}\\n\"\n",
    "        process_info += f\"目前maxfit={max_fit}\\n\"\n",
    "        process_info += f\"目前max_machine={max_machine}\\n\"\n",
    "        middle_writer.append(process_info)\n",
    "        # 确保文件夹存在，如果不存在，则创建\n",
    "        os.makedirs(input_dir, exist_ok=True)\n",
    "        filename = os.path.join(input_dir, f\"process_info_{i}_{j}.txt\")\n",
    "        with open(filename, \"w\") as f:\n",
    "            for info in middle_writer:\n",
    "                f.write(info)\n",
    "        middle_writer = []  # 清空 middle_writer\n",
    "    input_dir = f\"process/process{i}\"\n",
    "\n",
    "    "
   ]
  },
  {
   "cell_type": "code",
   "execution_count": 8,
   "metadata": {},
   "outputs": [
    {
     "name": "stdout",
     "output_type": "stream",
     "text": [
      "这是线程1\n",
      "这是线程2\n"
     ]
    }
   ],
   "source": [
    "from multiprocessing import Process\n",
    "\n",
    "\n",
    "def task(procName: int):\n",
    "    print(\"这是线程{}\".format(procName))\n",
    "\n",
    "\n",
    "\n",
    "proc1 = Process(target=task(1))\n",
    "proc2 = Process(target=task(2))\n",
    "proc1.start()\n",
    "proc2.start()\n"
   ]
  },
  {
   "cell_type": "code",
   "execution_count": 9,
   "metadata": {},
   "outputs": [],
   "source": [
    "max_fit = 0\n",
    "max_machine = []\n",
    "middle_writer = []\n",
    "input_dir = f\"process/process0\""
   ]
  },
  {
   "cell_type": "code",
   "execution_count": 11,
   "metadata": {},
   "outputs": [],
   "source": [
    "from multiprocessing import Process\n",
    "import os\n",
    "import copy\n",
    "\n",
    "def task(procName: int, max_fit: int, input_directory: str, F, Time):\n",
    "    for i in range(procName, procName + 200):\n",
    "        loaded_chunk = load_chunk(input_directory, i)  # 注意这里的 load_chunk 函数的实现\n",
    "        input_dir = f\"process/process{i}\"\n",
    "        for j in range(len(loaded_chunk)):\n",
    "            middle_writer = []\n",
    "            temp_fit = solveP(F, Time, loaded_chunk[j])\n",
    "            if temp_fit > max_fit:\n",
    "                max_fit = temp_fit\n",
    "                max_machine = copy.deepcopy(loaded_chunk[j])\n",
    "            process_info = f\"第{i}块第{j}个矩阵\\n\"\n",
    "            process_info += f\"目前temp_fit={temp_fit}\\n\"\n",
    "            process_info += f\"目前temp_machine={loaded_chunk[j]}\\n\"\n",
    "            process_info += f\"目前maxfit={max_fit}\\n\"\n",
    "            process_info += f\"目前max_machine={max_machine}\\n\"\n",
    "            middle_writer.append(process_info)\n",
    "            # 确保文件夹存在，如果不存在，则创建\n",
    "            os.makedirs(input_dir, exist_ok=True)\n",
    "            filename = os.path.join(input_dir, f\"process_info_{i}_{j}.txt\")\n",
    "            with open(filename, \"w\") as f:\n",
    "                for info in middle_writer:\n",
    "                    f.write(info)\n",
    "            middle_writer = []  # 清空 middle_writer\n",
    "        input_dir = f\"process/process{i}\"\n",
    "\n",
    "processes = []\n",
    "start = 5000\n",
    "max_fit = 0  # 初始化 max_fit\n",
    "while start < 7000:\n",
    "    p = Process(target=task, args=(start, max_fit, input_directory, F, Time))\n",
    "    processes.append(p)\n",
    "    start += 200\n"
   ]
  },
  {
   "cell_type": "code",
   "execution_count": null,
   "metadata": {},
   "outputs": [],
   "source": [
    "for i in processes:\n",
    "    i.start()"
   ]
  },
  {
   "cell_type": "code",
   "execution_count": 13,
   "metadata": {},
   "outputs": [
    {
     "name": "stderr",
     "output_type": "stream",
     "text": [
      "C:\\Users\\12780\\AppData\\Roaming\\Python\\Python39\\site-packages\\pulp\\pulp.py:1316: UserWarning: Spaces are not permitted in the name. Converted to '_'\n",
      "  warnings.warn(\"Spaces are not permitted in the name. Converted to '_'\")\n"
     ]
    },
    {
     "ename": "KeyboardInterrupt",
     "evalue": "",
     "output_type": "error",
     "traceback": [
      "\u001b[1;31m---------------------------------------------------------------------------\u001b[0m",
      "\u001b[1;31mKeyboardInterrupt\u001b[0m                         Traceback (most recent call last)",
      "Cell \u001b[1;32mIn[13], line 34\u001b[0m\n\u001b[0;32m     32\u001b[0m start\u001b[38;5;241m=\u001b[39m\u001b[38;5;241m5000\u001b[39m\n\u001b[0;32m     33\u001b[0m \u001b[38;5;28;01mwhile\u001b[39;00m(start\u001b[38;5;241m<\u001b[39m\u001b[38;5;241m7000\u001b[39m):\n\u001b[1;32m---> 34\u001b[0m     process\u001b[38;5;241m.\u001b[39mappend(Process(target\u001b[38;5;241m=\u001b[39m\u001b[43mtask\u001b[49m\u001b[43m(\u001b[49m\u001b[43mstart\u001b[49m\u001b[43m,\u001b[49m\u001b[43mmax_fit\u001b[49m\u001b[43m)\u001b[49m))\n\u001b[0;32m     35\u001b[0m     start\u001b[38;5;241m=\u001b[39mstart\u001b[38;5;241m+\u001b[39m\u001b[38;5;241m200\u001b[39m\n",
      "Cell \u001b[1;32mIn[13], line 12\u001b[0m, in \u001b[0;36mtask\u001b[1;34m(procName, max_fit)\u001b[0m\n\u001b[0;32m     10\u001b[0m \u001b[38;5;28;01mfor\u001b[39;00m j \u001b[38;5;129;01min\u001b[39;00m \u001b[38;5;28mrange\u001b[39m(\u001b[38;5;28mlen\u001b[39m(loaded_chunk)):\n\u001b[0;32m     11\u001b[0m     middle_writer\u001b[38;5;241m=\u001b[39m[]\n\u001b[1;32m---> 12\u001b[0m     temp_fit \u001b[38;5;241m=\u001b[39m \u001b[43msolveP\u001b[49m\u001b[43m(\u001b[49m\u001b[43mF\u001b[49m\u001b[43m,\u001b[49m\u001b[43m \u001b[49m\u001b[43mTime\u001b[49m\u001b[43m,\u001b[49m\u001b[43m \u001b[49m\u001b[43mloaded_chunk\u001b[49m\u001b[43m[\u001b[49m\u001b[43mj\u001b[49m\u001b[43m]\u001b[49m\u001b[43m)\u001b[49m\n\u001b[0;32m     13\u001b[0m     \u001b[38;5;28;01mif\u001b[39;00m temp_fit \u001b[38;5;241m>\u001b[39m max_fit:\n\u001b[0;32m     14\u001b[0m         max_fit \u001b[38;5;241m=\u001b[39m temp_fit\n",
      "Cell \u001b[1;32mIn[1], line 60\u001b[0m, in \u001b[0;36msolveP\u001b[1;34m(F, Time, Machine)\u001b[0m\n\u001b[0;32m     58\u001b[0m \u001b[38;5;28;01mfor\u001b[39;00m j \u001b[38;5;129;01min\u001b[39;00m \u001b[38;5;28mrange\u001b[39m(\u001b[38;5;241m7\u001b[39m):\n\u001b[0;32m     59\u001b[0m     prob \u001b[38;5;241m+\u001b[39m\u001b[38;5;241m=\u001b[39m X[\u001b[38;5;241m5\u001b[39m][j]\u001b[38;5;241m+\u001b[39mM[\u001b[38;5;241m5\u001b[39m][j]\u001b[38;5;241m-\u001b[39mN[\u001b[38;5;241m5\u001b[39m][j]\u001b[38;5;241m==\u001b[39m\u001b[38;5;241m60\u001b[39m\n\u001b[1;32m---> 60\u001b[0m \u001b[43mprob\u001b[49m\u001b[38;5;241;43m.\u001b[39;49m\u001b[43msolve\u001b[49m\u001b[43m(\u001b[49m\u001b[43m)\u001b[49m\n\u001b[0;32m     61\u001b[0m \u001b[38;5;28;01mreturn\u001b[39;00m pulp\u001b[38;5;241m.\u001b[39mvalue(prob\u001b[38;5;241m.\u001b[39mobjective)\n",
      "File \u001b[1;32m~\\AppData\\Roaming\\Python\\Python39\\site-packages\\pulp\\pulp.py:1883\u001b[0m, in \u001b[0;36mLpProblem.solve\u001b[1;34m(self, solver, **kwargs)\u001b[0m\n\u001b[0;32m   1881\u001b[0m \u001b[39m# time it\u001b[39;00m\n\u001b[0;32m   1882\u001b[0m \u001b[39mself\u001b[39m\u001b[39m.\u001b[39mstartClock()\n\u001b[1;32m-> 1883\u001b[0m status \u001b[39m=\u001b[39m solver\u001b[39m.\u001b[39mactualSolve(\u001b[39mself\u001b[39m, \u001b[39m*\u001b[39m\u001b[39m*\u001b[39mkwargs)\n\u001b[0;32m   1884\u001b[0m \u001b[39mself\u001b[39m\u001b[39m.\u001b[39mstopClock()\n\u001b[0;32m   1885\u001b[0m \u001b[39mself\u001b[39m\u001b[39m.\u001b[39mrestoreObjective(wasNone, dummyVar)\n",
      "File \u001b[1;32m~\\AppData\\Roaming\\Python\\Python39\\site-packages\\pulp\\apis\\coin_api.py:112\u001b[0m, in \u001b[0;36mCOIN_CMD.actualSolve\u001b[1;34m(self, lp, **kwargs)\u001b[0m\n\u001b[0;32m    110\u001b[0m \u001b[39mdef\u001b[39;00m \u001b[39mactualSolve\u001b[39m(\u001b[39mself\u001b[39m, lp, \u001b[39m*\u001b[39m\u001b[39m*\u001b[39mkwargs):\n\u001b[0;32m    111\u001b[0m     \u001b[39m\"\"\"Solve a well formulated lp problem\"\"\"\u001b[39;00m\n\u001b[1;32m--> 112\u001b[0m     \u001b[39mreturn\u001b[39;00m \u001b[39mself\u001b[39m\u001b[39m.\u001b[39msolve_CBC(lp, \u001b[39m*\u001b[39m\u001b[39m*\u001b[39mkwargs)\n",
      "File \u001b[1;32m~\\AppData\\Roaming\\Python\\Python39\\site-packages\\pulp\\apis\\coin_api.py:178\u001b[0m, in \u001b[0;36mCOIN_CMD.solve_CBC\u001b[1;34m(self, lp, use_mps)\u001b[0m\n\u001b[0;32m    176\u001b[0m \u001b[39melse\u001b[39;00m:\n\u001b[0;32m    177\u001b[0m     cbc \u001b[39m=\u001b[39m subprocess\u001b[39m.\u001b[39mPopen(args, stdout\u001b[39m=\u001b[39mpipe, stderr\u001b[39m=\u001b[39mpipe, stdin\u001b[39m=\u001b[39mdevnull)\n\u001b[1;32m--> 178\u001b[0m \u001b[39mif\u001b[39;00m cbc\u001b[39m.\u001b[39;49mwait() \u001b[39m!=\u001b[39m \u001b[39m0\u001b[39m:\n\u001b[0;32m    179\u001b[0m     \u001b[39mif\u001b[39;00m pipe:\n\u001b[0;32m    180\u001b[0m         pipe\u001b[39m.\u001b[39mclose()\n",
      "File \u001b[1;32mf:\\a\\envs\\env\\lib\\subprocess.py:1189\u001b[0m, in \u001b[0;36mPopen.wait\u001b[1;34m(self, timeout)\u001b[0m\n\u001b[0;32m   1187\u001b[0m     endtime \u001b[39m=\u001b[39m _time() \u001b[39m+\u001b[39m timeout\n\u001b[0;32m   1188\u001b[0m \u001b[39mtry\u001b[39;00m:\n\u001b[1;32m-> 1189\u001b[0m     \u001b[39mreturn\u001b[39;00m \u001b[39mself\u001b[39;49m\u001b[39m.\u001b[39;49m_wait(timeout\u001b[39m=\u001b[39;49mtimeout)\n\u001b[0;32m   1190\u001b[0m \u001b[39mexcept\u001b[39;00m \u001b[39mKeyboardInterrupt\u001b[39;00m:\n\u001b[0;32m   1191\u001b[0m     \u001b[39m# https://bugs.python.org/issue25942\u001b[39;00m\n\u001b[0;32m   1192\u001b[0m     \u001b[39m# The first keyboard interrupt waits briefly for the child to\u001b[39;00m\n\u001b[0;32m   1193\u001b[0m     \u001b[39m# exit under the common assumption that it also received the ^C\u001b[39;00m\n\u001b[0;32m   1194\u001b[0m     \u001b[39m# generated SIGINT and will exit rapidly.\u001b[39;00m\n\u001b[0;32m   1195\u001b[0m     \u001b[39mif\u001b[39;00m timeout \u001b[39mis\u001b[39;00m \u001b[39mnot\u001b[39;00m \u001b[39mNone\u001b[39;00m:\n",
      "File \u001b[1;32mf:\\a\\envs\\env\\lib\\subprocess.py:1470\u001b[0m, in \u001b[0;36mPopen._wait\u001b[1;34m(self, timeout)\u001b[0m\n\u001b[0;32m   1467\u001b[0m     timeout_millis \u001b[39m=\u001b[39m \u001b[39mint\u001b[39m(timeout \u001b[39m*\u001b[39m \u001b[39m1000\u001b[39m)\n\u001b[0;32m   1468\u001b[0m \u001b[39mif\u001b[39;00m \u001b[39mself\u001b[39m\u001b[39m.\u001b[39mreturncode \u001b[39mis\u001b[39;00m \u001b[39mNone\u001b[39;00m:\n\u001b[0;32m   1469\u001b[0m     \u001b[39m# API note: Returns immediately if timeout_millis == 0.\u001b[39;00m\n\u001b[1;32m-> 1470\u001b[0m     result \u001b[39m=\u001b[39m _winapi\u001b[39m.\u001b[39;49mWaitForSingleObject(\u001b[39mself\u001b[39;49m\u001b[39m.\u001b[39;49m_handle,\n\u001b[0;32m   1471\u001b[0m                                          timeout_millis)\n\u001b[0;32m   1472\u001b[0m     \u001b[39mif\u001b[39;00m result \u001b[39m==\u001b[39m _winapi\u001b[39m.\u001b[39mWAIT_TIMEOUT:\n\u001b[0;32m   1473\u001b[0m         \u001b[39mraise\u001b[39;00m TimeoutExpired(\u001b[39mself\u001b[39m\u001b[39m.\u001b[39margs, timeout)\n",
      "\u001b[1;31mKeyboardInterrupt\u001b[0m: "
     ]
    }
   ],
   "source": [
    "from multiprocessing import Process\n",
    "import os\n",
    "\n",
    "\n",
    "\n",
    "def task(procName: int,max_fit:int):\n",
    "    for i in range(procName,procName+200):\n",
    "        loaded_chunk = load_chunk(input_directory, i)\n",
    "        input_dir = f\"process/process{i}\"\n",
    "        for j in range(len(loaded_chunk)):\n",
    "            middle_writer=[]\n",
    "            temp_fit = solveP(F, Time, loaded_chunk[j])\n",
    "            if temp_fit > max_fit:\n",
    "                max_fit = temp_fit\n",
    "                max_machine = copy.deepcopy(loaded_chunk[j])\n",
    "            process_info = f\"第{i}块第{j}个矩阵\\n\"\n",
    "            process_info += f\"目前temp_fit={temp_fit}\\n\"\n",
    "            process_info += f\"目前temp_machine={loaded_chunk[j]}\\n\"\n",
    "            process_info += f\"目前maxfit={max_fit}\\n\"\n",
    "            process_info += f\"目前max_machine={max_machine}\\n\"\n",
    "            middle_writer.append(process_info)\n",
    "            # 确保文件夹存在，如果不存在，则创建\n",
    "            os.makedirs(input_dir, exist_ok=True)\n",
    "            filename = os.path.join(input_dir, f\"process_info_{i}_{j}.txt\")\n",
    "            with open(filename, \"w\") as f:\n",
    "                for info in middle_writer:\n",
    "                    f.write(info)\n",
    "            middle_writer = []  # 清空 middle_writer\n",
    "        input_dir = f\"process/process{i}\"\n",
    "\n",
    "process=[]\n",
    "start=5000\n",
    "while(start<7000):\n",
    "    process.append(Process(target=task(start,max_fit)))\n",
    "    start=start+200\n"
   ]
  },
  {
   "cell_type": "code",
   "execution_count": 56,
   "metadata": {},
   "outputs": [
    {
     "name": "stdout",
     "output_type": "stream",
     "text": [
      "98718.5\n"
     ]
    }
   ],
   "source": [
    "print(max_fit)"
   ]
  }
 ],
 "metadata": {
  "kernelspec": {
   "display_name": "Python 3 (ipykernel)",
   "language": "python",
   "name": "python3"
  },
  "language_info": {
   "codemirror_mode": {
    "name": "ipython",
    "version": 3
   },
   "file_extension": ".py",
   "mimetype": "text/x-python",
   "name": "python",
   "nbconvert_exporter": "python",
   "pygments_lexer": "ipython3",
   "version": "3.9.16"
  },
  "vscode": {
   "interpreter": {
    "hash": "060d95f772dce4cc3886f0f373e8d4f95079d8579238e2f38ae746da2e129142"
   }
  }
 },
 "nbformat": 4,
 "nbformat_minor": 2
}
